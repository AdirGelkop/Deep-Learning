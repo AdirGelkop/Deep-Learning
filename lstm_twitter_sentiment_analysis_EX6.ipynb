{
  "cells": [
    {
      "cell_type": "markdown",
      "metadata": {
        "id": "view-in-github",
        "colab_type": "text"
      },
      "source": [
        "<a href=\"https://colab.research.google.com/github/AdirGelkop/Deep-Learning/blob/main/lstm_twitter_sentiment_analysis_EX6.ipynb\" target=\"_parent\"><img src=\"https://colab.research.google.com/assets/colab-badge.svg\" alt=\"Open In Colab\"/></a>"
      ]
    },
    {
      "cell_type": "markdown",
      "id": "28995462",
      "metadata": {
        "id": "28995462"
      },
      "source": [
        "\n",
        "# LSTM Model for Sentiment Analysis\n",
        "\n",
        "This notebook demonstrates sentiment analysis using an LSTM model on the Twitter Entity Sentiment Analysis dataset.\n",
        "\n",
        "We preprocess the dataset, build an LSTM architecture using PyTorch, and train/test the model. Finally, we evaluate its performance using metrics like accuracy, precision, recall, and F1-score, and provide insights into the results.\n"
      ]
    },
    {
      "cell_type": "code",
      "execution_count": 1,
      "id": "2be5af3e",
      "metadata": {
        "colab": {
          "base_uri": "https://localhost:8080/"
        },
        "id": "2be5af3e",
        "outputId": "46674d23-5781-4d56-a8b9-9223fe51d334"
      },
      "outputs": [
        {
          "output_type": "stream",
          "name": "stdout",
          "text": [
            "Dataset not found locally. Downloading using KaggleHub...\n",
            "Downloading from https://www.kaggle.com/api/v1/datasets/download/jp797498e/twitter-entity-sentiment-analysis?dataset_version_number=2...\n"
          ]
        },
        {
          "output_type": "stream",
          "name": "stderr",
          "text": [
            "100%|██████████| 1.99M/1.99M [00:00<00:00, 22.7MB/s]"
          ]
        },
        {
          "output_type": "stream",
          "name": "stdout",
          "text": [
            "Extracting files...\n"
          ]
        },
        {
          "output_type": "stream",
          "name": "stderr",
          "text": [
            "\n"
          ]
        },
        {
          "output_type": "stream",
          "name": "stdout",
          "text": [
            "Dataset loaded successfully.\n",
            "Columns in the dataset: Index(['2401', 'Borderlands', 'Positive',\n",
            "       'im getting on borderlands and i will murder you all ,'],\n",
            "      dtype='object')\n"
          ]
        },
        {
          "output_type": "stream",
          "name": "stderr",
          "text": [
            "<ipython-input-1-de4babd6b329>:40: SettingWithCopyWarning: \n",
            "A value is trying to be set on a copy of a slice from a DataFrame.\n",
            "Try using .loc[row_indexer,col_indexer] = value instead\n",
            "\n",
            "See the caveats in the documentation: https://pandas.pydata.org/pandas-docs/stable/user_guide/indexing.html#returning-a-view-versus-a-copy\n",
            "  data[text_column] = data[text_column].astype(str)  # Ensure all text data is string\n"
          ]
        }
      ],
      "source": [
        "\n",
        "# Importing necessary libraries\n",
        "import os\n",
        "import pandas as pd\n",
        "import numpy as np\n",
        "import torch\n",
        "from sklearn.model_selection import train_test_split\n",
        "from sklearn.feature_extraction.text import CountVectorizer\n",
        "from torch.utils.data import Dataset, DataLoader\n",
        "import kagglehub\n",
        "\n",
        "# Dataset Path\n",
        "dataset_path = \"twitter_training.csv\"\n",
        "\n",
        "# Download dataset using KaggleHub if not found locally\n",
        "if not os.path.exists(dataset_path):\n",
        "    print(\"Dataset not found locally. Downloading using KaggleHub...\")\n",
        "    path = kagglehub.dataset_download(\"jp797498e/twitter-entity-sentiment-analysis\")\n",
        "    dataset_path = os.path.join(path, \"twitter_training.csv\")\n",
        "\n",
        "# Load dataset\n",
        "try:\n",
        "    data = pd.read_csv(dataset_path, encoding='ISO-8859-1')\n",
        "    print(\"Dataset loaded successfully.\")\n",
        "except FileNotFoundError:\n",
        "    raise FileNotFoundError(\"The dataset file 'twitter_training.csv' was not found. \"\n",
        "                            \"Ensure it is correctly downloaded from Kaggle.\")\n",
        "\n",
        "# Inspect dataset columns to identify text and sentiment columns\n",
        "print(\"Columns in the dataset:\", data.columns)\n",
        "text_column = data.columns[3]  # Dynamically selecting the column with text data\n",
        "sentiment_column = data.columns[2]  # Dynamically selecting the column with sentiment data\n",
        "\n",
        "# Preprocessing\n",
        "data = data[[text_column, sentiment_column]]  # Keep only text and sentiment columns\n",
        "data = data[data[sentiment_column].isin(['Positive', 'Negative'])]  # Filter only Positive and Negative sentiments\n",
        "data[sentiment_column] = data[sentiment_column].map({'Positive': 1, 'Negative': 0})  # Map sentiments to binary\n",
        "\n",
        "# Handle missing or invalid text values\n",
        "data = data.dropna(subset=[text_column])  # Remove rows where text is NaN\n",
        "data[text_column] = data[text_column].astype(str)  # Ensure all text data is string\n",
        "\n",
        "# Split data\n",
        "train_texts, test_texts, train_labels, test_labels = train_test_split(\n",
        "    data[text_column], data[sentiment_column], test_size=0.2, random_state=42\n",
        ")\n",
        "\n",
        "# Convert to PyTorch Dataset\n",
        "class TextDataset(Dataset):\n",
        "    def __init__(self, texts, labels, vectorizer):\n",
        "        self.texts = texts\n",
        "        self.labels = labels\n",
        "        self.vectorizer = vectorizer\n",
        "\n",
        "    def __len__(self):\n",
        "        return len(self.labels)\n",
        "\n",
        "    def __getitem__(self, idx):\n",
        "        vectorized_text = self.vectorizer.transform([self.texts.iloc[idx]]).toarray()[0]\n",
        "        label = self.labels.iloc[idx]\n",
        "        return torch.tensor(vectorized_text, dtype=torch.float32), torch.tensor(label, dtype=torch.long)\n",
        "\n",
        "# Vectorize text data\n",
        "vectorizer = CountVectorizer(max_features=5000, binary=True)\n",
        "vectorizer.fit(train_texts)\n",
        "\n",
        "# Create DataLoader\n",
        "train_dataset = TextDataset(train_texts, train_labels, vectorizer)\n",
        "test_dataset = TextDataset(test_texts, test_labels, vectorizer)\n",
        "\n",
        "train_loader = DataLoader(train_dataset, batch_size=64, shuffle=True)\n",
        "test_loader = DataLoader(test_dataset, batch_size=64)\n"
      ]
    },
    {
      "cell_type": "code",
      "execution_count": 2,
      "id": "8eaa97f5",
      "metadata": {
        "colab": {
          "base_uri": "https://localhost:8080/"
        },
        "id": "8eaa97f5",
        "outputId": "bad989d5-24df-4a67-d26e-e1442c95a6ab"
      },
      "outputs": [
        {
          "output_type": "stream",
          "name": "stdout",
          "text": [
            "Epoch 1, Loss: 0.38729059694812645\n",
            "Epoch 2, Loss: 0.2082042916362835\n",
            "Epoch 3, Loss: 0.15215688998565133\n",
            "Epoch 4, Loss: 0.11440647727217816\n",
            "Epoch 5, Loss: 0.09140983162980984\n",
            "Epoch 6, Loss: 0.07718952552529681\n",
            "Epoch 7, Loss: 0.06575388033600822\n",
            "Epoch 8, Loss: 0.05857767079624462\n",
            "Epoch 9, Loss: 0.05284461420510643\n",
            "Epoch 10, Loss: 0.04829538298717122\n",
            "Test Accuracy: 93.55%\n",
            "              precision    recall  f1-score   support\n",
            "\n",
            "    Negative       0.92      0.95      0.94      4481\n",
            "    Positive       0.95      0.92      0.93      4122\n",
            "\n",
            "    accuracy                           0.94      8603\n",
            "   macro avg       0.94      0.93      0.94      8603\n",
            "weighted avg       0.94      0.94      0.94      8603\n",
            "\n"
          ]
        }
      ],
      "source": [
        "\n",
        "# Import necessary libraries\n",
        "import torch.nn as nn\n",
        "import torch.optim as optim\n",
        "\n",
        "# Define LSTM Model\n",
        "class LSTMClassifier(nn.Module):\n",
        "    def __init__(self, input_dim, hidden_dim, output_dim):\n",
        "        super(LSTMClassifier, self).__init__()\n",
        "        self.hidden_dim = hidden_dim\n",
        "        self.lstm = nn.LSTM(input_dim, hidden_dim, batch_first=True)\n",
        "        self.fc = nn.Linear(hidden_dim, output_dim)\n",
        "\n",
        "    def forward(self, x):\n",
        "        lstm_out, _ = self.lstm(x.unsqueeze(1))\n",
        "        lstm_out = lstm_out[:, -1, :]\n",
        "        out = self.fc(lstm_out)\n",
        "        return out\n",
        "\n",
        "# Hyperparameters\n",
        "INPUT_DIM = 5000  # Vocabulary size from CountVectorizer\n",
        "HIDDEN_DIM = 128\n",
        "OUTPUT_DIM = 2\n",
        "device = torch.device('cuda' if torch.cuda.is_available() else 'cpu')\n",
        "\n",
        "# Initialize model, loss, and optimizer\n",
        "model = LSTMClassifier(INPUT_DIM, HIDDEN_DIM, OUTPUT_DIM).to(device)\n",
        "criterion = nn.CrossEntropyLoss()\n",
        "optimizer = optim.Adam(model.parameters(), lr=0.001)\n",
        "\n",
        "# Training\n",
        "training_loss = []\n",
        "for epoch in range(10):  # 10 epochs\n",
        "    model.train()\n",
        "    epoch_loss = 0\n",
        "    for texts, labels in train_loader:\n",
        "        texts, labels = texts.to(device), labels.to(device)\n",
        "        optimizer.zero_grad()\n",
        "        predictions = model(texts)\n",
        "        loss = criterion(predictions, labels)\n",
        "        loss.backward()\n",
        "        optimizer.step()\n",
        "        epoch_loss += loss.item()\n",
        "    training_loss.append(epoch_loss / len(train_loader))\n",
        "    print(f\"Epoch {epoch+1}, Loss: {epoch_loss / len(train_loader)}\")\n",
        "\n",
        "# Testing\n",
        "model.eval()\n",
        "correct = 0\n",
        "total = 0\n",
        "all_labels = []\n",
        "all_predictions = []\n",
        "with torch.no_grad():\n",
        "    for texts, labels in test_loader:\n",
        "        texts, labels = texts.to(device), labels.to(device)\n",
        "        outputs = model(texts)\n",
        "        _, predicted = torch.max(outputs, 1)\n",
        "        total += labels.size(0)\n",
        "        correct += (predicted == labels).sum().item()\n",
        "        all_labels.extend(labels.cpu().numpy())\n",
        "        all_predictions.extend(predicted.cpu().numpy())\n",
        "\n",
        "accuracy = 100 * correct / total\n",
        "print(f\"Test Accuracy: {accuracy:.2f}%\")\n",
        "\n",
        "# Classification report\n",
        "from sklearn.metrics import classification_report\n",
        "print(classification_report(all_labels, all_predictions, target_names=['Negative', 'Positive']))\n"
      ]
    },
    {
      "cell_type": "code",
      "execution_count": 3,
      "id": "095ae605",
      "metadata": {
        "colab": {
          "base_uri": "https://localhost:8080/",
          "height": 472
        },
        "id": "095ae605",
        "outputId": "c4e489b4-32a7-45fe-eb7e-449a6afa0977"
      },
      "outputs": [
        {
          "output_type": "display_data",
          "data": {
            "text/plain": [
              "<Figure size 640x480 with 1 Axes>"
            ],
            "image/png": "[encoded data removed]"
          },
          "metadata": {}
        }
      ],
      "source": [
        "\n",
        "import matplotlib.pyplot as plt\n",
        "\n",
        "# Plot training loss\n",
        "epochs = list(range(1, 11))  # 10 epochs\n",
        "plt.plot(epochs, training_loss, label='Training Loss')\n",
        "plt.xlabel('Epoch')\n",
        "plt.ylabel('Loss')\n",
        "plt.title('Training Loss per Epoch')\n",
        "plt.legend()\n",
        "plt.show()\n"
      ]
    },
    {
      "cell_type": "markdown",
      "id": "2099d86d",
      "metadata": {
        "id": "2099d86d"
      },
      "source": [
        "\n",
        "## Results and Insights\n",
        "\n",
        "1. **Dataset Description**:\n",
        "   - The dataset contains text data labeled as either \"Positive\" or \"Negative\".\n",
        "   - Preprocessing steps included tokenization, handling missing values, and splitting into training/testing sets.\n",
        "\n",
        "2. **Model Details**:\n",
        "   - An LSTM architecture with input size 5000, hidden size 128, and output size 2.\n",
        "   - Optimized using Adam optimizer with a learning rate of 0.001.\n",
        "\n",
        "3. **Performance**:\n",
        "   - Test Accuracy: Reported after the testing phase.\n",
        "   - Additional metrics: Precision, Recall, F1-Score for each class.\n",
        "\n",
        "4. **Training Loss**:\n",
        "   - The training loss decreases across epochs, indicating effective learning.\n",
        "\n",
        "5. **Challenges and Improvements**:\n",
        "   - The model could be further improved with hyperparameter tuning and using pre-trained embeddings like GloVe.\n",
        "   - Investigate additional metrics and datasets for robust evaluation.\n"
      ]
    }
  ],
  "metadata": {
    "colab": {
      "provenance": [],
      "include_colab_link": true
    },
    "language_info": {
      "name": "python"
    },
    "kernelspec": {
      "name": "python3",
      "display_name": "Python 3"
    }
  },
  "nbformat": 4,
  "nbformat_minor": 5
}