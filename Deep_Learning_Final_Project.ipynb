{
  "nbformat": 4,
  "nbformat_minor": 0,
  "metadata": {
    "colab": {
      "provenance": [],
      "include_colab_link": true
    },
    "kernelspec": {
      "name": "python3",
      "display_name": "Python 3"
    },
    "language_info": {
      "name": "python"
    }
  },
  "cells": [
    {
      "cell_type": "markdown",
      "metadata": {
        "id": "view-in-github",
        "colab_type": "text"
      },
      "source": [
        "<a href=\"https://colab.research.google.com/github/AdirGelkop/Deep-Learning/blob/main/Deep_Learning_Final_Project.ipynb\" target=\"_parent\"><img src=\"https://colab.research.google.com/assets/colab-badge.svg\" alt=\"Open In Colab\"/></a>"
      ]
    },
    {
      "cell_type": "markdown",
      "source": [
        "***Deep Learning Course Final Project***\n",
        "\n",
        "\n",
        "---\n",
        "\n",
        "\n",
        "**Students :**\n",
        "*   Adir Gelkop - 208003020\n",
        "*   Ofir Cohen - 211540307\n",
        "\n",
        "For this project, we will be using Kaggle's \"Global Economic Indicators Dataset\" dataset @ https://www.kaggle.com/datasets/heidarmirhajisadati/global-economic-indicators-dataset-2010-2023/code\n",
        "\n",
        "\n",
        "---\n",
        "\n",
        "To be continued..."
      ],
      "metadata": {
        "id": "S_LDDzVyX_4B"
      }
    },
    {
      "cell_type": "markdown",
      "source": [],
      "metadata": {
        "id": "KHuiVNtf0OPa"
      }
    }
  ]
}